{
  "cells": [
    {
      "cell_type": "markdown",
      "metadata": {
        "id": "view-in-github",
        "colab_type": "text"
      },
      "source": [
        "<a href=\"https://colab.research.google.com/github/LeliaPlusPlus/BreathingDisparities/blob/main/Copy_of_MLHCProject_DataExplore_Clustering_for_GitHub.ipynb\" target=\"_parent\"><img src=\"https://colab.research.google.com/assets/colab-badge.svg\" alt=\"Open In Colab\"/></a>"
      ]
    },
    {
      "cell_type": "markdown",
      "metadata": {
        "id": "e18FIx8LgZts"
      },
      "source": [
        "# MLHC Project\n",
        "Goal: Using traditional demographic labels and SDoH can we link them to potential disparities in health outcomes in intibated ICU patients using MIMIC data. \n",
        "\n",
        "Some code drawn from a GitHub that is not shared.   \n",
        "Data from: https://physionet.org/content/mimiciv/2.2/ \n",
        "\n",
        "Most recent query pull was 4/6/2023"
      ]
    },
    {
      "cell_type": "markdown",
      "metadata": {
        "id": "NTd248pLgvu-"
      },
      "source": [
        "## Imports and Downloading Data\n",
        "\n",
        "Imports used to Download the data directly from the query pulled from Google Big Query. Then the csv was saved locally for future runtimes. "
      ]
    },
    {
      "cell_type": "markdown",
      "metadata": {
        "id": "ZFrMp1uTh_ZM"
      },
      "source": [
        "###Imports"
      ]
    },
    {
      "cell_type": "code",
      "execution_count": null,
      "metadata": {
        "id": "2d5xemOhlrBw"
      },
      "outputs": [],
      "source": [
        "from google.colab import auth\n",
        "import pandas as pd\n",
        "import numpy as np\n",
        "from sklearn.linear_model import LogisticRegression\n",
        "from sklearn.metrics import accuracy_score, roc_auc_score, roc_curve, confusion_matrix, f1_score\n",
        "from sklearn.preprocessing import StandardScaler\n",
        "import matplotlib.pyplot as plt\n",
        "from sklearn.feature_extraction.text import CountVectorizer"
      ]
    },
    {
      "cell_type": "code",
      "execution_count": null,
      "metadata": {
        "id": "TdXnz7dNl3id"
      },
      "outputs": [],
      "source": [
        "auth.authenticate_user()"
      ]
    },
    {
      "cell_type": "markdown",
      "metadata": {
        "id": "x_AKfo1SJ-43"
      },
      "source": [
        "## Reupload and Clean Data \n",
        "We cleaned the data by keeping on intubated patients and 23 relavent features. "
      ]
    },
    {
      "cell_type": "code",
      "execution_count": null,
      "metadata": {
        "id": "ghGg4F88KDv4"
      },
      "outputs": [],
      "source": [
        "# Imports\n",
        "import sys\n",
        "import os\n",
        "from matplotlib import pyplot as plt\n",
        "# get path to lib folder which is one level up from the current directory\n",
        "lib_path = os.path.abspath(os.path.join('..', 'lib'))\n",
        "# append the path to 'lib' to access custom modules\n",
        "sys.path.append(lib_path)\n",
        "from pathlib import Path\n",
        "from sklearn.cluster import KMeans\n",
        "import pandas as pd\n",
        "from matplotlib import cm\n",
        "import json\n",
        "!pip install hypernetx\n",
        "import hypernetx as hnx\n",
        "!pip install hypercluster\n",
        "import hypercluster as hc"
      ]
    },
    {
      "cell_type": "code",
      "execution_count": null,
      "metadata": {
        "id": "CqpeSPkdRQWn"
      },
      "outputs": [],
      "source": [
        "# Get general demographic table from downloads ##LOAD FILE FROM DESKTOP\n",
        "raw_df = pd.read_csv('output_updated(4:6:23).csv')"
      ]
    },
    {
      "cell_type": "code",
      "execution_count": null,
      "metadata": {
        "id": "664V_r2bKdOi"
      },
      "outputs": [],
      "source": [
        "# Select Features to keep \n",
        "df = raw_df.copy()\n",
        "# keep only the following columns:\n",
        "features_to_keep = [\n",
        "    'subject_id', 'hadm_id', 'stay_id', 'los', 'age', 'height', 'weight', 'bmi', 'race', 'marital_status', 'insurance',\n",
        "    'fluent_english', 'gender', 'hospital_expire_flag', 'primary_diagnosis',\n",
        "    'icd_version', 'avg_sofa', 'hidden_hypoxemia_percentage',\n",
        "    'max_delta_SaO2SpO2','intubation_duration_hour', 'number_of_turning',\n",
        "    'frequency_of_turning_hour', 'number_of_oral_care__condensed',\n",
        "    'frequency_of_oral_care_hour__condensed', 'oral_care_type']\n",
        "\n",
        "df = df[features_to_keep]"
      ]
    },
    {
      "cell_type": "code",
      "source": [
        "# Only keep patients that have been intubated\n",
        "df = df[~df['intubation_duration_hour'].isna()]"
      ],
      "metadata": {
        "id": "yduFg5s5REpx"
      },
      "execution_count": null,
      "outputs": []
    },
    {
      "cell_type": "markdown",
      "source": [
        "## Mapping Data to Numerical Features \n",
        "Categorical Features were mapped to Numerical values. "
      ],
      "metadata": {
        "id": "mYmk6RSQwLZK"
      }
    },
    {
      "cell_type": "code",
      "execution_count": null,
      "metadata": {
        "id": "Oy3eOLcqLB6j"
      },
      "outputs": [],
      "source": [
        "from logging import raiseExceptions\n",
        "# Convert all features from raw_df to numeric\n",
        "\n",
        "# 1. Convert gender from M/F to 0/1\n",
        "df[\"gender\"] = raw_df.gender.map({\"M\": 0, \"F\": 1})\n",
        "\n",
        "# 2. Mark all black patients as 1 and all non-white patients as 0 (this is a simplification that should be explored further) ERROR: divides data to 1 = black and 0 is everyone else\n",
        "  #ERROR: df[\"race\"] = raw_df.race.str.contains(\"BLACK\").astype(int)\n",
        "# new race map that does black, white, other with room to expand \n",
        "race_map = {} \n",
        "for i, race in enumerate(raw_df.race.unique()):\n",
        "  if \"BLACK\" in race:\n",
        "    race_map[race] = 1\n",
        "  elif \"WHITE\" in race:\n",
        "    race_map[race] = 2\n",
        "  elif \"HISPANIC\" in race or \"PORTUGUESE\" in race: \n",
        "    race_map[race] = 3\n",
        "  else:\n",
        "    race_map[race] = 0\n",
        "print(race_map)\n",
        "df[\"race\"] = raw_df.race.map(race_map)\n",
        "\n",
        "# 3. Convert english proficiency from boolean to 0/1\n",
        "df[\"fluent_english\"] = raw_df.fluent_english.map({True: 1, False: 0})\n",
        "\n",
        "# 4. Convert diagnosis from string to numeric\n",
        "diagno_map = {diagno:val for val, diagno in enumerate(raw_df.primary_diagnosis.unique())}\n",
        "df[\"primary_diagnosis\"] = raw_df.primary_diagnosis.map(diagno_map)\n",
        "\n",
        "# 5. Convert oral care type from string to numeric\n",
        "oc_map = {oc:val for val, oc in enumerate(raw_df.oral_care_type.unique())}\n",
        "df[\"oral_care_type\"] = raw_df.oral_care_type.map(oc_map)\n",
        "\n",
        "# 6. Marital Status \n",
        "df['marital_status'] = raw_df.marital_status.map({'SINGLE':0, 'MARRIED':2, 'WIDOW':1, 'DIVORCED':3})\n",
        "\n",
        "# 7. Insurance \n",
        "df['insurance'] = raw_df.insurance.map({'Other':0, 'Medicare':2, 'Medicaid':1})\n",
        "\n",
        "# 8. Convert everything to float\n",
        "df = df.astype(float)"
      ]
    },
    {
      "cell_type": "markdown",
      "metadata": {
        "id": "_tJxPOB7h9XA"
      },
      "source": [
        "## Exploratory Data Analysis\n",
        "\n",
        "We looked at the demographics present in the data. The missingness of the data and the general descriptive statistics for each feature. "
      ]
    },
    {
      "cell_type": "code",
      "execution_count": null,
      "metadata": {
        "id": "6Kx7eNtuiGjK"
      },
      "outputs": [],
      "source": [
        "# Gender Distribution \n",
        "import matplotlib.pyplot as plt\n",
        "import numpy as np\n",
        "count = df['gender'].value_counts(dropna=False)\n",
        "\n",
        "plt.pie(count, labels=[\"Male\", \"Female\"], autopct='%1.1f%%')\n",
        "plt.show()"
      ]
    },
    {
      "cell_type": "code",
      "execution_count": null,
      "metadata": {
        "id": "wIjMK52OiJuM"
      },
      "outputs": [],
      "source": [
        "# Fluency in English \n",
        "count = df['fluent_english'].value_counts(dropna=False)\n",
        "print(count)\n",
        "plt.pie(count, labels=[\"Fluent English\", \"Non-Fluent English\"], autopct='%1.1f%%')\n",
        "plt.show()"
      ]
    },
    {
      "cell_type": "code",
      "execution_count": null,
      "metadata": {
        "id": "D2Au--qhAHYK"
      },
      "outputs": [],
      "source": [
        "# Race \n",
        "import matplotlib.pyplot as plt\n",
        "import numpy as np\n",
        "count = df['race'].value_counts(dropna=False)\n",
        "print(count)\n",
        "plt.pie(count, labels=[\"White\", \"Other\", \"Black\", \"Hispanic\", ], autopct='%1.1f%%')\n",
        "plt.show()"
      ]
    },
    {
      "cell_type": "code",
      "execution_count": null,
      "metadata": {
        "id": "pBkIs7I9iURq"
      },
      "outputs": [],
      "source": [
        "# Number of pts on Vents \n",
        "pts_intibated = df['intubation_duration_hour'].isna().sum()\n",
        "print(pts_intibated)\n",
        "total_pts = len(df['intubation_duration_hour'].tolist())\n",
        "print(total_pts)"
      ]
    },
    {
      "cell_type": "code",
      "execution_count": null,
      "metadata": {
        "id": "QK7nnPHGi1hT"
      },
      "outputs": [],
      "source": [
        "# Missingness of the df \n",
        "missingness = {}\n",
        "percent_missing = {}\n",
        "for col in df.columns:\n",
        "  missingness[col] = df[col].isna().sum()\n",
        "  percent_missing[col] = df[col].isna().sum() / len(df[col].tolist())"
      ]
    },
    {
      "cell_type": "code",
      "execution_count": null,
      "metadata": {
        "id": "dzDM_W0YzENR"
      },
      "outputs": [],
      "source": [
        "# Plot percent missing \n",
        "plt.bar(*zip(*percent_missing.items()))\n",
        "plt.xticks(rotation=90)\n",
        "plt.title(\"The Percent Missing of the Data in each Column\")\n",
        "plt.show()"
      ]
    },
    {
      "cell_type": "code",
      "execution_count": null,
      "metadata": {
        "id": "Hiu0EWOh_ezo"
      },
      "outputs": [],
      "source": [
        "# Descriptive Stats on Columns\n",
        "stats = df.describe()\n",
        "stats"
      ]
    },
    {
      "cell_type": "markdown",
      "source": [
        "## Hyperclustering First Attempts \n",
        "Not Valid because was trying to use K-means which can only be used on numerical data."
      ],
      "metadata": {
        "id": "V-q8vBVbyNSq"
      }
    },
    {
      "cell_type": "markdown",
      "metadata": {
        "id": "YeQUqiFZQfqB"
      },
      "source": [
        "### Make Hyperclusters A -- Mentor Example"
      ]
    },
    {
      "cell_type": "code",
      "execution_count": null,
      "metadata": {
        "id": "7sUV712WQh8z"
      },
      "outputs": [],
      "source": [
        "# Create the Hypercluster Sets\n",
        "\n",
        "hyperedge0 = [\"gender\", \"race\", \"age\", \"fluent_english\", \"weight\", \"bmi\", \"height\"]\n",
        "hyperedge1 = [\"weight\", \"bmi\", \"avg_sofa\", \"primary_diagnosis\", \"icd_version\", \"height\"]\n",
        "hyperedge2 = [\"hidden_hypoxemia_percentage\", \"los\", \"hospital_expire_flag\"]\n",
        "hyperedge3 = [\"number_of_turning\", \"frequency_of_turning_hour\", \"number_of_oral_care__condensed\", \"oral_care_type\"] # Removed target from sets== \"frequency_of_oral_care_hour__condensed\"\n",
        "hyperedges = [hyperedge0, hyperedge1, hyperedge2, hyperedge3]\n",
        "hyperedges_name = [\"demographics\", \"clinical\", \"outcomes\", \"interventions\"]"
      ]
    },
    {
      "cell_type": "code",
      "execution_count": null,
      "metadata": {
        "id": "GQ7l-vIxQtol"
      },
      "outputs": [],
      "source": [
        "# Visualize the hypergraph\n",
        "scenes = {\n",
        "    name: tuple(hyperedge) for name, hyperedge in zip(hyperedges_name, hyperedges)\n",
        "}\n",
        "H = hnx.Hypergraph(scenes)\n",
        "hnx.drawing.draw(H)\n",
        "plt.savefig(\"hypergraph.png\")\n",
        "plt.show()"
      ]
    },
    {
      "cell_type": "code",
      "execution_count": null,
      "metadata": {
        "id": "aYfUe5aZQ6cU"
      },
      "outputs": [],
      "source": [
        "from typing import List\n",
        "\n",
        "# Define custom metrics\n",
        "  # Here, the mean of the correlation between each feature in the hyperedge\n",
        "# and the target (frequency of turning disparity)\n",
        "def mean_correlation(df: pd.DataFrame, e: List[str], target: str = \"frequency_of_oral_care_hour__condensed\"):\n",
        "    print(df[e + [target]].corr().loc[target, e].mean())\n",
        "    return df[e + [target]].corr().loc[target, e].mean()\n",
        "\n",
        "# Put all the metrics into a list\n",
        "all_metrics = [(\"mean_correlation\", mean_correlation)]"
      ]
    },
    {
      "cell_type": "code",
      "execution_count": null,
      "metadata": {
        "id": "LJJ9ap91RmHn"
      },
      "outputs": [],
      "source": [
        "# Create a dataset with the hyperedges and the custom metric\n",
        "X = pd.DataFrame()\n",
        "for metric_name, metric in all_metrics:\n",
        "    l = []\n",
        "    for i, e in enumerate(hyperedges):\n",
        "        print(e)\n",
        "        l.append(metric(df, e))\n",
        "    X[metric_name] = l\n",
        "X"
      ]
    },
    {
      "cell_type": "code",
      "execution_count": null,
      "metadata": {
        "id": "rPPQk7DPSLnr"
      },
      "outputs": [],
      "source": [
        "from collections import defaultdict\n",
        "\n",
        "# Train multiple clustering algorithms (can use Vulpes later, scikit learn in the meanwhile)\n",
        "n_clusters = 2  # choose the number of clusters, supervised approach here\n",
        "clustering = KMeans(n_clusters=n_clusters, random_state=42)\n",
        "clustering.fit(X)\n",
        "clusters = clustering.predict(X)"
      ]
    },
    {
      "cell_type": "code",
      "execution_count": null,
      "metadata": {
        "id": "Ir_5i6GLSRjP"
      },
      "outputs": [],
      "source": [
        "# Visualize clusters?\n",
        "clusters_dic = defaultdict(list)\n",
        "for cluster_id, hyperedge_name in zip(clusters, hyperedges_name):\n",
        "    clusters_dic[cluster_id].append(hyperedge_name)\n",
        "scenes_clusters = {\n",
        "    i: tuple(cluster) for i, cluster in clusters_dic.items()\n",
        "}\n",
        "H_clusters = hnx.Hypergraph(scenes_clusters)\n",
        "hnx.drawing.draw(H_clusters)\n",
        "plt.savefig(\"clusters.png\")\n",
        "plt.show()"
      ]
    },
    {
      "cell_type": "markdown",
      "metadata": {
        "id": "HFsE5bJ9YMq4"
      },
      "source": [
        "###  Hyperclusters B -- Exploring Data Techniques\n"
      ]
    },
    {
      "cell_type": "code",
      "execution_count": null,
      "metadata": {
        "id": "3tY7-ADhY5k8"
      },
      "outputs": [],
      "source": [
        "df.columns"
      ]
    },
    {
      "cell_type": "code",
      "execution_count": null,
      "metadata": {
        "id": "vs39xKZpYTOQ"
      },
      "outputs": [],
      "source": [
        "# Another Set \n",
        "hyperedge0 = [\"gender\", \"race\", \"age\", \"fluent_english\"]\n",
        "hyperedge1 = [\"weight\", \"bmi\", \"avg_sofa\", \"primary_diagnosis\", \"icd_version\", \"height\"]\n",
        "hyperedge2 = [\"hidden_hypoxemia_percentage\", 'max_delta_SaO2SpO2', \"los\", \"hospital_expire_flag\"]\n",
        "hyperedge3 = [\"frequency_of_oral_care_hour__condensed\", \"number_of_oral_care__condensed\", \"oral_care_type\"] # Removed target from sets== \"number_of_turning\", \"frequency_of_turning_hour\"\n",
        "hyperedges = [hyperedge0, hyperedge1, hyperedge2, hyperedge3]\n",
        "hyperedges_name = [\"demographics\", \"clinical\", \"outcomes\", \"interventions\"]"
      ]
    },
    {
      "cell_type": "code",
      "execution_count": null,
      "metadata": {
        "id": "Gbe6Ae54Znwu"
      },
      "outputs": [],
      "source": [
        "from typing import List\n",
        "\n",
        "# Define custom metrics\n",
        "  # Here, the mean of the correlation between each feature in the hyperedge\n",
        "# and the target (frequency of turning disparity)\n",
        "def mean_correlation(df: pd.DataFrame, e: List[str], target: str = \"frequency_of_turning_hour\"):\n",
        "    print(df[e + [target]].corr().loc[target, e].mean())\n",
        "    return df[e + [target]].corr().loc[target, e].mean()\n",
        "\n",
        "# Put all the metrics into a list\n",
        "all_metrics = [(\"mean_correlation\", mean_correlation)]"
      ]
    },
    {
      "cell_type": "code",
      "execution_count": null,
      "metadata": {
        "id": "l1pG9oNaY4rE"
      },
      "outputs": [],
      "source": [
        "# Create a dataset with the hyperedges and the custom metric\n",
        "X = pd.DataFrame()\n",
        "for metric_name, metric in all_metrics:\n",
        "    l = []\n",
        "    for i, e in enumerate(hyperedges):\n",
        "\n",
        "        l.append(metric(df, e))\n",
        "    X[metric_name] = l\n",
        "X"
      ]
    },
    {
      "cell_type": "code",
      "execution_count": null,
      "metadata": {
        "id": "2kzisQ_HZt8r"
      },
      "outputs": [],
      "source": [
        "# from collections import defaultdict\n",
        "\n",
        "# Train multiple clustering algorithms (can use Vulpes later, scikit learn in the meanwhile)\n",
        "n_clusters = 2  # choose the number of clusters, supervised approach here\n",
        "clustering = KMeans(n_clusters=n_clusters, random_state=42)\n",
        "clustering.fit(X)\n",
        "clusters = clustering.predict(X)"
      ]
    },
    {
      "cell_type": "code",
      "execution_count": null,
      "metadata": {
        "id": "uzfyse5-Zx1s"
      },
      "outputs": [],
      "source": [
        "# Visualize clusters?\n",
        "clusters_dic = defaultdict(list)\n",
        "for cluster_id, hyperedge_name in zip(clusters, hyperedges_name):\n",
        "    clusters_dic[cluster_id].append(hyperedge_name)\n",
        "scenes_clusters = {\n",
        "    i: tuple(cluster) for i, cluster in clusters_dic.items()\n",
        "}\n",
        "H_clusters = hnx.Hypergraph(scenes_clusters)\n",
        "hnx.drawing.draw(H_clusters)\n",
        "plt.savefig(\"turning_clusters.png\")\n",
        "plt.show()"
      ]
    },
    {
      "cell_type": "markdown",
      "metadata": {
        "id": "gn-BzbsCDQd7"
      },
      "source": [
        "### Hyperclustering C "
      ]
    },
    {
      "cell_type": "code",
      "execution_count": null,
      "metadata": {
        "id": "L8K4gcoIDSqC"
      },
      "outputs": [],
      "source": [
        "# Supervised Sets \n",
        "hyperedge0 = [\"gender\", \"race\", \"age\", \"weight\", \"bmi\", \"height\"]\n",
        "hyperedge1 = [\"weight\", \"bmi\", \"avg_sofa\", \"primary_diagnosis\", \"icd_version\", \"height\"]\n",
        "hyperedge2 = [\"hidden_hypoxemia_percentage\", \"los\", \"hospital_expire_flag\"]\n",
        "hyperedge3 = [\"number_of_turning\", \"frequency_of_turning_hour\", \"number_of_oral_care__condensed\", \"oral_care_type\"] # Removed target from sets== \"frequency_of_oral_care_hour__condensed\"\n",
        "hyperedge4 = [\"bmi\", \"marital_status\", \"fluent_english\"]\n",
        "hyperedges = [hyperedge0, hyperedge1, hyperedge2, hyperedge3, hyperedge4]\n",
        "hyperedges_name = [\"demographics\", \"clinical\", \"outcomes\", \"interventions\", \"SDoH\"]"
      ]
    },
    {
      "cell_type": "code",
      "execution_count": null,
      "metadata": {
        "id": "u-ZaO-HSD7Js"
      },
      "outputs": [],
      "source": [
        "from typing import List\n",
        "\n",
        "# Define custom metrics\n",
        "  # Here, the mean of the correlation between each feature in the hyperedge\n",
        "# and the target (frequency of turning disparity)\n",
        "def mean_correlation(df: pd.DataFrame, e: List[str], target: str = \"frequency_of_oral_care_hour__condensed\"):\n",
        "    print(df[e + [target]].corr().loc[target, e].mean())\n",
        "    return df[e + [target]].corr().loc[target, e].mean()\n",
        "\n",
        "# Put all the metrics into a list\n",
        "all_metrics = [(\"mean_correlation\", mean_correlation)]"
      ]
    },
    {
      "cell_type": "code",
      "execution_count": null,
      "metadata": {
        "id": "PUljeNl6DsGU"
      },
      "outputs": [],
      "source": [
        "# Create a dataset with the hyperedges and the custom metric\n",
        "X = pd.DataFrame()\n",
        "for metric_name, metric in all_metrics:\n",
        "    l = []\n",
        "    for i, e in enumerate(hyperedges):\n",
        "        print(e)\n",
        "        l.append(metric(df, e))\n",
        "    X[metric_name] = l\n",
        "X"
      ]
    },
    {
      "cell_type": "code",
      "execution_count": null,
      "metadata": {
        "id": "jPOMPATOEGYC"
      },
      "outputs": [],
      "source": [
        "#Train cluster model \n",
        "# Train multiple clustering algorithms (can use Vulpes later, scikit learn in the meanwhile)\n",
        "n_clusters = 2  # choose the number of clusters, supervised approach here\n",
        "clustering = KMeans(n_clusters=n_clusters, random_state=42)\n",
        "clustering.fit(X)\n",
        "clusters = clustering.predict(X)"
      ]
    },
    {
      "cell_type": "code",
      "execution_count": null,
      "metadata": {
        "id": "1PKGlvrPGDrv"
      },
      "outputs": [],
      "source": [
        "# Visualize clusters?\n",
        "clusters_dic = defaultdict(list)\n",
        "for cluster_id, hyperedge_name in zip(clusters, hyperedges_name):\n",
        "    clusters_dic[cluster_id].append(hyperedge_name)\n",
        "scenes_clusters = {\n",
        "    i: tuple(cluster) for i, cluster in clusters_dic.items()\n",
        "}\n",
        "H_clusters = hnx.Hypergraph(scenes_clusters)\n",
        "hnx.drawing.draw(H_clusters)\n",
        "plt.savefig(\"clusters.png\")\n",
        "plt.show()"
      ]
    },
    {
      "cell_type": "markdown",
      "metadata": {
        "id": "6dMTJMg2_51n"
      },
      "source": [
        "## Updated Hyperclustering Technique K-Prototype\n",
        "New Approach takes into account categorical and numerical data that is mixed together.\n",
        "\n",
        "*  Why: https://towardsdatascience.com/clustering-algorithm-for-data-with-mixed-categorical-and-numerical-features-d4e3a48066a0  \n",
        "* Implementation: https://towardsdatascience.com/the-k-prototype-as-clustering-algorithm-for-mixed-data-type-categorical-and-numerical-fe7c50538ebb \n",
        "\n"
      ]
    },
    {
      "cell_type": "markdown",
      "source": [
        "#### Data Preprocessing"
      ],
      "metadata": {
        "id": "mYSIvH4zznMt"
      }
    },
    {
      "cell_type": "code",
      "execution_count": null,
      "metadata": {
        "id": "Z03EYiP3_-6a"
      },
      "outputs": [],
      "source": [
        "#Identify the columns with numerical versus categorical data\n",
        "numerical_features = ['los', 'age', 'height', 'weight', 'bmi', 'frequency_of_oral_care_hour__condensed', \n",
        "                      'frequency_of_turning_hour', 'max_delta_SaO2SpO2', 'intubation_duration_hour',\n",
        "                      'number_of_turning', 'number_of_oral_care__condensed', 'hidden_hypoxemia_percentage', 'avg_sofa']\n",
        "categorical_features = ['race', 'marital_status', 'insurance', 'fluent_english', \n",
        "                        'gender', \"icd_version\", 'primary_diagnosis', 'oral_care_type',\n",
        "                        \"hospital_expire_flag\"]\n"
      ]
    },
    {
      "cell_type": "code",
      "source": [
        "## Imports for K-prototype clustering\n",
        "\n",
        "# Import module for data manipulation\n",
        "import pandas as pd\n",
        "# Import module for linear algebra\n",
        "import numpy as np\n",
        "# Import module for data visualization\n",
        "from plotnine import *\n",
        "import plotnine\n",
        "# Import module for k-protoype cluster\n",
        "!pip install kmodes\n",
        "from kmodes.kprototypes import KPrototypes\n",
        "# Ignore warnings\n",
        "import warnings\n",
        "warnings.filterwarnings('ignore', category = FutureWarning)\n",
        "# Format scientific notation from Pandas\n",
        "pd.set_option('display.float_format', lambda x: '%.3f' % x)"
      ],
      "metadata": {
        "id": "JsW3U27ty531"
      },
      "execution_count": null,
      "outputs": []
    },
    {
      "cell_type": "code",
      "source": [
        "# Preprocessing Data\n",
        " # 1. Remove Unneccessary cols and get the position of categorical columns\n",
        "\n",
        "df = df.drop(['subject_id', 'hadm_id',  'stay_id'], axis=1)\n",
        "\n",
        "catColumnsPos = [df.columns.get_loc(col) for col in categorical_features]\n",
        "print('Categorical columns           : {}'.format(categorical_features))\n",
        "print('Categorical columns position  : {}'.format(catColumnsPos))"
      ],
      "metadata": {
        "id": "dIltSH2x1MVG"
      },
      "execution_count": null,
      "outputs": []
    },
    {
      "cell_type": "code",
      "source": [
        "# 2. Replace NaN Values (see data exploration for missing analysis)\n",
        "  \n",
        "### Descriptive Stats on Columns\n",
        "stats = df.describe()\n",
        "\n",
        "### Replace NaN vals in each column with the mean\n",
        "cluster_df = df.copy()\n",
        "\n",
        "for col in df.columns:\n",
        "  for i in df[col].isnull().to_numpy().nonzero():\n",
        "    \n",
        "    cluster_df[col].iloc[i] = stats[col]['mean']\n"
      ],
      "metadata": {
        "id": "e26656HG5hfT"
      },
      "execution_count": null,
      "outputs": []
    },
    {
      "cell_type": "code",
      "source": [
        "# 3. Normalize the numerical columns\n",
        "import sklearn.preprocessing \n",
        "from sklearn.preprocessing import MinMaxScaler\n",
        "\n",
        "norm_df = cluster_df.copy()\n",
        "for col in cluster_df:\n",
        "  \n",
        "  if str(col) in categorical_features:\n",
        "    print(col)\n",
        "    print(categorical_features)\n",
        "  else:\n",
        "    norm_df[col] = MinMaxScaler().fit_transform(np.array(cluster_df[col]).reshape(-1,1))\n"
      ],
      "metadata": {
        "id": "U5TnyRxZu7D_"
      },
      "execution_count": null,
      "outputs": []
    },
    {
      "cell_type": "code",
      "source": [
        "# 5. Alg takes imput as matrix not Dataframe\n",
        "dfMatrix = norm_df.to_numpy()\n",
        "print(np.argwhere(np.isnan(dfMatrix)))"
      ],
      "metadata": {
        "id": "ROKa3AU6276-"
      },
      "execution_count": null,
      "outputs": []
    },
    {
      "cell_type": "markdown",
      "source": [
        "#### Visualize Data Pre-Clustering"
      ],
      "metadata": {
        "id": "R9SvMIzk6n_j"
      }
    },
    {
      "cell_type": "code",
      "source": [
        "#!pip install umap-learn\n",
        "import umap.umap_ as umap\n",
        "\n",
        "#Percentage of columns which are categorical is used as weight parameter in embeddings later\n",
        "categorical_weight = len(catColumnsPos) / norm_df.shape[1]\n",
        "\n",
        "#Embedding numerical & categorical\n",
        "numColumnsPos = [col for col in norm_df if col not in categorical_features]\n",
        "numerical = norm_df[numColumnsPos]\n",
        "categorical = norm_df[categorical_features]\n",
        "fit1 = umap.UMAP(metric='l2').fit(numerical)\n",
        "fit2 = umap.UMAP(metric='dice').fit(categorical)\n",
        "\n",
        "#Augmenting the numerical embedding with categorical\n",
        "intersection = umap.general_simplicial_set_intersection(fit1.graph_, fit2.graph_, weight=categorical_weight)\n",
        "intersection = umap.reset_local_connectivity(intersection)\n",
        "embedding = umap.simplicial_set_embedding(fit1._raw_data, intersection, fit1.n_components, \n",
        "                                          fit1._initial_alpha, fit1._a, fit1._b, fit1.repulsion_strength, \n",
        "                                          fit1.negative_sample_rate, 200, 'random', np.random, \n",
        "                                          fit1.metric, fit1._metric_kwds, False, \n",
        "                                          fit1.densmap, output_dens=False)\n",
        "\n"
      ],
      "metadata": {
        "id": "P8CxrRY66sVz"
      },
      "execution_count": null,
      "outputs": []
    },
    {
      "cell_type": "code",
      "source": [
        "# Visualize \n",
        "plt.figure(figsize=(20, 10))\n",
        "plt.scatter(embedding[0][:,0], embedding[0][:,1], s=2, cmap='Spectral', alpha=1.0)\n",
        "plt.show()"
      ],
      "metadata": {
        "id": "EOncJr0CgcQ-"
      },
      "execution_count": null,
      "outputs": []
    },
    {
      "cell_type": "markdown",
      "source": [
        "#### Outliers Exploration"
      ],
      "metadata": {
        "id": "Wm1w2jHW1ozB"
      }
    },
    {
      "cell_type": "code",
      "source": [
        "# Find outlier embeddings \n",
        "outliers = []\n",
        "index = 0\n",
        "for x, y in embedding[0]:\n",
        "  if 6 < x < 7.5 and -1.5 < y < 0.2:\n",
        "    outliers.append(index)\n",
        "  index += 1"
      ],
      "metadata": {
        "id": "PCtSL582nFg_"
      },
      "execution_count": null,
      "outputs": []
    },
    {
      "cell_type": "code",
      "source": [
        "# Second Outlier Group \n",
        "out2 = []\n",
        "index = 0\n",
        "for x, y in embedding[0]:\n",
        "  if 7 < x < 8 and -10 < y < -5:\n",
        "    out2.append(index)\n",
        "  index += 1"
      ],
      "metadata": {
        "id": "zQUpYm_bAyvy"
      },
      "execution_count": null,
      "outputs": []
    },
    {
      "cell_type": "code",
      "source": [
        "print(len(outliers))\n",
        "print(len(out2))"
      ],
      "metadata": {
        "id": "yDvxteq6n5Aj"
      },
      "execution_count": null,
      "outputs": []
    },
    {
      "cell_type": "code",
      "source": [
        "df_outlier = norm_df[norm_df.index.isin(outliers)]\n",
        "print(df_outlier)"
      ],
      "metadata": {
        "id": "U3W7YKovoB6B"
      },
      "execution_count": null,
      "outputs": []
    },
    {
      "cell_type": "code",
      "source": [
        "df_out2= norm_df[norm_df.index.isin(out2)]\n",
        "print(df_out2)"
      ],
      "metadata": {
        "id": "3xX_7tmeBLGZ"
      },
      "execution_count": null,
      "outputs": []
    },
    {
      "cell_type": "code",
      "source": [
        "# Cluster Counts\n",
        "print(df_outlier[\"Cluster Labels\"].value_counts())\n",
        "print(norm_df[\"Cluster Labels\"].value_counts())\n",
        "print(df_out2[\"Cluster Labels\"].value_counts())"
      ],
      "metadata": {
        "id": "7vv_Hr1qpYEK"
      },
      "execution_count": null,
      "outputs": []
    },
    {
      "cell_type": "code",
      "source": [
        "# stats on outliers by clusters \n",
        "\n",
        "table = df_outlier.groupby('Cluster Labels').agg(\n",
        "    {  \n",
        "        'los': 'mean',\n",
        "        'age': 'mean',\n",
        "        \n",
        "        #'oral_care_type': lambda x: x.value_counts().index[0],\n",
        "        #'height': 'mean',\n",
        "        #'weight': 'mean',\n",
        "        #'bmi': 'mean',\n",
        "        'race': lambda x: (x.value_counts().index[0]),\n",
        "        'marital_status': lambda x: (x.value_counts().index[0]),\n",
        "        'insurance': lambda x: (x.value_counts().index[0]),\n",
        "\n",
        "        #'fluent_english': lambda x: (x.value_counts().index[0]),\n",
        "        'gender': lambda x: (x.value_counts().index[0]),\n",
        "        #'hospital_expire_flag': lambda x: (x.value_counts().index[0]),\n",
        "        'primary_diagnosis': lambda x: (x.value_counts().index[0]),\n",
        "        #'icd_version': lambda x: (x.value_counts().index[0]),\n",
        "         \n",
        "        'avg_sofa': 'mean',\n",
        "        'hidden_hypoxemia_percentage': 'mean',\n",
        "        #'max_delta_SaO2SpO2': 'mean',\n",
        "\n",
        "        'intubation_duration_hour': 'mean',\n",
        "        'number_of_turning': 'mean',\n",
        "        'frequency_of_turning_hour': 'mean',\n",
        "        'number_of_oral_care__condensed': 'mean',\n",
        "        'frequency_of_oral_care_hour__condensed': 'mean',\n",
        "        \n",
        "        \n",
        "        \n",
        "    }\n",
        ").reset_index()\n",
        "\n",
        "print(table)"
      ],
      "metadata": {
        "id": "wQ1oQKaPoiaa"
      },
      "execution_count": null,
      "outputs": []
    },
    {
      "cell_type": "code",
      "source": [
        "table = df_out2.groupby('Cluster Labels').agg(\n",
        "    {  \n",
        "        'los': 'mean',\n",
        "        'age': 'mean',\n",
        "        \n",
        "        #'oral_care_type': lambda x: x.value_counts().index[0],\n",
        "        #'height': 'mean',\n",
        "        #'weight': 'mean',\n",
        "        #'bmi': 'mean',\n",
        "        'race': lambda x: (x.value_counts().index[0]),\n",
        "        'marital_status': lambda x: (x.value_counts().index[0]),\n",
        "        'insurance': lambda x: (x.value_counts().index[0]),\n",
        "\n",
        "        #'fluent_english': lambda x: (x.value_counts().index[0]),\n",
        "        'gender': lambda x: (x.value_counts().index[0]),\n",
        "        #'hospital_expire_flag': lambda x: (x.value_counts().index[0]),\n",
        "        'primary_diagnosis': lambda x: (x.value_counts().index[0]),\n",
        "        #'icd_version': lambda x: (x.value_counts().index[0]),\n",
        "         \n",
        "        'avg_sofa': 'mean',\n",
        "        'hidden_hypoxemia_percentage': 'mean',\n",
        "        #'max_delta_SaO2SpO2': 'mean',\n",
        "\n",
        "        'intubation_duration_hour': 'mean',\n",
        "        'number_of_turning': 'mean',\n",
        "        'frequency_of_turning_hour': 'mean',\n",
        "        'number_of_oral_care__condensed': 'mean',\n",
        "        'frequency_of_oral_care_hour__condensed': 'mean',\n",
        "        \n",
        "        \n",
        "        \n",
        "    }\n",
        ").reset_index()\n",
        "\n",
        "print(table)"
      ],
      "metadata": {
        "id": "an8HyqUmCMuN"
      },
      "execution_count": null,
      "outputs": []
    },
    {
      "cell_type": "code",
      "source": [
        "# Stats by Outliers vs Whole dataset without cluster label groupings\n",
        "\n",
        "whole_table = norm_df.agg(\n",
        "    {  \n",
        "        'los': 'mean',\n",
        "        'age': 'mean',\n",
        "        'oral_care_type': lambda x: x.value_counts().index[0],\n",
        "        'height': 'mean',\n",
        "        'weight': 'mean',\n",
        "        'bmi': 'mean',\n",
        "        'race': lambda x: (x.value_counts().index[0]),\n",
        "        'marital_status': lambda x: (x.value_counts().index[0]),\n",
        "        'insurance': lambda x: (x.value_counts().index[0]),\n",
        "        'fluent_english': lambda x: (x.value_counts().index[0]),\n",
        "        'gender': lambda x: (x.value_counts().index[0]),\n",
        "        'hospital_expire_flag': lambda x: (x.value_counts().index[0]),\n",
        "        'primary_diagnosis': lambda x: (x.value_counts().index[0]),\n",
        "        'icd_version': lambda x: (x.value_counts().index[0]), \n",
        "        'avg_sofa': 'mean',\n",
        "        'hidden_hypoxemia_percentage': 'mean',\n",
        "        'max_delta_SaO2SpO2': 'mean',\n",
        "        'intubation_duration_hour': 'mean',\n",
        "        'number_of_turning': 'mean',\n",
        "        'frequency_of_turning_hour': 'mean',\n",
        "        'number_of_oral_care__condensed': 'mean',\n",
        "        'frequency_of_oral_care_hour__condensed': 'mean',  \n",
        "    }\n",
        ").reset_index()\n",
        "\n",
        "out_table = df_outlier.agg(\n",
        "    {  \n",
        "        'los': 'mean',\n",
        "        'age': 'mean',\n",
        "        'oral_care_type': lambda x: x.value_counts().index[0],\n",
        "        'height': 'mean',\n",
        "        'weight': 'mean',\n",
        "        'bmi': 'mean',\n",
        "        'race': lambda x: (x.value_counts().index[0]),\n",
        "        'marital_status': lambda x: (x.value_counts().index[0]),\n",
        "        'insurance': lambda x: (x.value_counts().index[0]),\n",
        "        'fluent_english': lambda x: (x.value_counts().index[0]),\n",
        "        'gender': lambda x: (x.value_counts().index[0]),\n",
        "        'hospital_expire_flag': lambda x: (x.value_counts().index[0]),\n",
        "        'primary_diagnosis': lambda x: (x.value_counts().index[0]),\n",
        "        'icd_version': lambda x: (x.value_counts().index[0]), \n",
        "        'avg_sofa': 'mean',\n",
        "        'hidden_hypoxemia_percentage': 'mean',\n",
        "        'max_delta_SaO2SpO2': 'mean',\n",
        "        'intubation_duration_hour': 'mean',\n",
        "        'number_of_turning': 'mean',\n",
        "        'frequency_of_turning_hour': 'mean',\n",
        "        'number_of_oral_care__condensed': 'mean',\n",
        "        'frequency_of_oral_care_hour__condensed': 'mean',  \n",
        "    }\n",
        ").reset_index()\n",
        "\n",
        "out2_table = df_out2.agg(\n",
        "    {  \n",
        "        'los': 'mean',\n",
        "        'age': 'mean',\n",
        "        'oral_care_type': lambda x: x.value_counts().index[0],\n",
        "        'height': 'mean',\n",
        "        'weight': 'mean',\n",
        "        'bmi': 'mean',\n",
        "        'race': lambda x: (x.value_counts().index[0]),\n",
        "        'marital_status': lambda x: (x.value_counts().index[0]),\n",
        "        'insurance': lambda x: (x.value_counts().index[0]),\n",
        "        'fluent_english': lambda x: (x.value_counts().index[0]),\n",
        "        'gender': lambda x: (x.value_counts().index[0]),\n",
        "        'hospital_expire_flag': lambda x: (x.value_counts().index[0]),\n",
        "        'primary_diagnosis': lambda x: (x.value_counts().index[0]),\n",
        "        'icd_version': lambda x: (x.value_counts().index[0]), \n",
        "        'avg_sofa': 'mean',\n",
        "        'hidden_hypoxemia_percentage': 'mean',\n",
        "        'max_delta_SaO2SpO2': 'mean',\n",
        "        'intubation_duration_hour': 'mean',\n",
        "        'number_of_turning': 'mean',\n",
        "        'frequency_of_turning_hour': 'mean',\n",
        "        'number_of_oral_care__condensed': 'mean',\n",
        "        'frequency_of_oral_care_hour__condensed': 'mean',  \n",
        "    }\n",
        ").reset_index()\n",
        "\n",
        "print(whole_table)\n",
        "print(out_table)\n",
        "print(out2_table)"
      ],
      "metadata": {
        "id": "ZvEUY9IEaHMl"
      },
      "execution_count": null,
      "outputs": []
    },
    {
      "cell_type": "markdown",
      "source": [
        "#### Cluster Number Optimization"
      ],
      "metadata": {
        "id": "FPxMy8VB7XGZ"
      }
    },
    {
      "cell_type": "code",
      "source": [
        "# Optimal Number of Clusters (runtime: 3.5 hours for 1 to 5 tests)\n",
        "\n",
        "cost = []\n",
        "for cluster in range(1, 10):\n",
        "    try:\n",
        "        kprototype = KPrototypes(n_jobs = -1, n_clusters = cluster, init = 'Huang', random_state = 0)\n",
        "        kprototype.fit_predict(dfMatrix, categorical = catColumnsPos)\n",
        "        cost.append(kprototype.cost_)\n",
        "        print('Cluster initiation: {}'.format(cluster))\n",
        "    except:\n",
        "        break"
      ],
      "metadata": {
        "colab": {
          "base_uri": "https://localhost:8080/"
        },
        "id": "Gjnqqtc4fJsa",
        "outputId": "47805c5a-72a0-47d4-fffb-ba293608d6fb"
      },
      "execution_count": null,
      "outputs": [
        {
          "output_type": "stream",
          "name": "stdout",
          "text": [
            "Cluster initiation: 1\n",
            "Cluster initiation: 2\n",
            "Cluster initiation: 3\n",
            "Cluster initiation: 4\n",
            "Cluster initiation: 5\n",
            "Cluster initiation: 6\n"
          ]
        }
      ]
    },
    {
      "cell_type": "code",
      "source": [
        "# Converting the results into a dataframe and plotting them\n",
        "print(cost)\n",
        "df_cost = pd.DataFrame({'Cluster':range(1, 7), 'Cost':cost})\n",
        "df_cost.head()"
      ],
      "metadata": {
        "colab": {
          "base_uri": "https://localhost:8080/"
        },
        "id": "3OAjDczWhfWs",
        "outputId": "3694268c-e78d-4cc7-a525-4ca6cd904b9b"
      },
      "execution_count": null,
      "outputs": [
        {
          "output_type": "stream",
          "name": "stdout",
          "text": [
            "[6.71267816676058e+17, 5.025961071631203e+17, 4.005603688855594e+17, 3.18460732445825e+17, 2.6728347851269907e+17, 2.219974963130925e+17]\n"
          ]
        },
        {
          "output_type": "execute_result",
          "data": {
            "text/plain": [
              "   Cluster                   Cost\n",
              "0        1 671267816676057984.000\n",
              "1        2 502596107163120320.000\n",
              "2        3 400560368885559424.000\n",
              "3        4 318460732445825024.000\n",
              "4        5 267283478512699072.000"
            ],
            "text/html": [
              "\n",
              "  <div id=\"df-b20b18be-9325-4117-9603-166fd6b26b38\">\n",
              "    <div class=\"colab-df-container\">\n",
              "      <div>\n",
              "<style scoped>\n",
              "    .dataframe tbody tr th:only-of-type {\n",
              "        vertical-align: middle;\n",
              "    }\n",
              "\n",
              "    .dataframe tbody tr th {\n",
              "        vertical-align: top;\n",
              "    }\n",
              "\n",
              "    .dataframe thead th {\n",
              "        text-align: right;\n",
              "    }\n",
              "</style>\n",
              "<table border=\"1\" class=\"dataframe\">\n",
              "  <thead>\n",
              "    <tr style=\"text-align: right;\">\n",
              "      <th></th>\n",
              "      <th>Cluster</th>\n",
              "      <th>Cost</th>\n",
              "    </tr>\n",
              "  </thead>\n",
              "  <tbody>\n",
              "    <tr>\n",
              "      <th>0</th>\n",
              "      <td>1</td>\n",
              "      <td>671267816676057984.000</td>\n",
              "    </tr>\n",
              "    <tr>\n",
              "      <th>1</th>\n",
              "      <td>2</td>\n",
              "      <td>502596107163120320.000</td>\n",
              "    </tr>\n",
              "    <tr>\n",
              "      <th>2</th>\n",
              "      <td>3</td>\n",
              "      <td>400560368885559424.000</td>\n",
              "    </tr>\n",
              "    <tr>\n",
              "      <th>3</th>\n",
              "      <td>4</td>\n",
              "      <td>318460732445825024.000</td>\n",
              "    </tr>\n",
              "    <tr>\n",
              "      <th>4</th>\n",
              "      <td>5</td>\n",
              "      <td>267283478512699072.000</td>\n",
              "    </tr>\n",
              "  </tbody>\n",
              "</table>\n",
              "</div>\n",
              "      <button class=\"colab-df-convert\" onclick=\"convertToInteractive('df-b20b18be-9325-4117-9603-166fd6b26b38')\"\n",
              "              title=\"Convert this dataframe to an interactive table.\"\n",
              "              style=\"display:none;\">\n",
              "        \n",
              "  <svg xmlns=\"http://www.w3.org/2000/svg\" height=\"24px\"viewBox=\"0 0 24 24\"\n",
              "       width=\"24px\">\n",
              "    <path d=\"M0 0h24v24H0V0z\" fill=\"none\"/>\n",
              "    <path d=\"M18.56 5.44l.94 2.06.94-2.06 2.06-.94-2.06-.94-.94-2.06-.94 2.06-2.06.94zm-11 1L8.5 8.5l.94-2.06 2.06-.94-2.06-.94L8.5 2.5l-.94 2.06-2.06.94zm10 10l.94 2.06.94-2.06 2.06-.94-2.06-.94-.94-2.06-.94 2.06-2.06.94z\"/><path d=\"M17.41 7.96l-1.37-1.37c-.4-.4-.92-.59-1.43-.59-.52 0-1.04.2-1.43.59L10.3 9.45l-7.72 7.72c-.78.78-.78 2.05 0 2.83L4 21.41c.39.39.9.59 1.41.59.51 0 1.02-.2 1.41-.59l7.78-7.78 2.81-2.81c.8-.78.8-2.07 0-2.86zM5.41 20L4 18.59l7.72-7.72 1.47 1.35L5.41 20z\"/>\n",
              "  </svg>\n",
              "      </button>\n",
              "      \n",
              "  <style>\n",
              "    .colab-df-container {\n",
              "      display:flex;\n",
              "      flex-wrap:wrap;\n",
              "      gap: 12px;\n",
              "    }\n",
              "\n",
              "    .colab-df-convert {\n",
              "      background-color: #E8F0FE;\n",
              "      border: none;\n",
              "      border-radius: 50%;\n",
              "      cursor: pointer;\n",
              "      display: none;\n",
              "      fill: #1967D2;\n",
              "      height: 32px;\n",
              "      padding: 0 0 0 0;\n",
              "      width: 32px;\n",
              "    }\n",
              "\n",
              "    .colab-df-convert:hover {\n",
              "      background-color: #E2EBFA;\n",
              "      box-shadow: 0px 1px 2px rgba(60, 64, 67, 0.3), 0px 1px 3px 1px rgba(60, 64, 67, 0.15);\n",
              "      fill: #174EA6;\n",
              "    }\n",
              "\n",
              "    [theme=dark] .colab-df-convert {\n",
              "      background-color: #3B4455;\n",
              "      fill: #D2E3FC;\n",
              "    }\n",
              "\n",
              "    [theme=dark] .colab-df-convert:hover {\n",
              "      background-color: #434B5C;\n",
              "      box-shadow: 0px 1px 3px 1px rgba(0, 0, 0, 0.15);\n",
              "      filter: drop-shadow(0px 1px 2px rgba(0, 0, 0, 0.3));\n",
              "      fill: #FFFFFF;\n",
              "    }\n",
              "  </style>\n",
              "\n",
              "      <script>\n",
              "        const buttonEl =\n",
              "          document.querySelector('#df-b20b18be-9325-4117-9603-166fd6b26b38 button.colab-df-convert');\n",
              "        buttonEl.style.display =\n",
              "          google.colab.kernel.accessAllowed ? 'block' : 'none';\n",
              "\n",
              "        async function convertToInteractive(key) {\n",
              "          const element = document.querySelector('#df-b20b18be-9325-4117-9603-166fd6b26b38');\n",
              "          const dataTable =\n",
              "            await google.colab.kernel.invokeFunction('convertToInteractive',\n",
              "                                                     [key], {});\n",
              "          if (!dataTable) return;\n",
              "\n",
              "          const docLinkHtml = 'Like what you see? Visit the ' +\n",
              "            '<a target=\"_blank\" href=https://colab.research.google.com/notebooks/data_table.ipynb>data table notebook</a>'\n",
              "            + ' to learn more about interactive tables.';\n",
              "          element.innerHTML = '';\n",
              "          dataTable['output_type'] = 'display_data';\n",
              "          await google.colab.output.renderOutput(dataTable, element);\n",
              "          const docLink = document.createElement('div');\n",
              "          docLink.innerHTML = docLinkHtml;\n",
              "          element.appendChild(docLink);\n",
              "        }\n",
              "      </script>\n",
              "    </div>\n",
              "  </div>\n",
              "  "
            ]
          },
          "metadata": {},
          "execution_count": 119
        }
      ]
    },
    {
      "cell_type": "code",
      "source": [
        "# Visualize Optimal K \n",
        "plotnine.options.figure_size = (8, 4.8)\n",
        "(\n",
        "    ggplot(data = df_cost)+\n",
        "    geom_line(aes(x = 'Cluster',\n",
        "                  y = 'Cost'))+\n",
        "    geom_point(aes(x = 'Cluster',\n",
        "                   y = 'Cost'))+\n",
        "    geom_label(aes(x = 'Cluster',\n",
        "                   y = 'Cost',\n",
        "                   label = 'Cluster'),\n",
        "               size = 10,\n",
        "               nudge_y = 1000) +\n",
        "    labs(title = 'Optimal number of cluster with Elbow Method')+\n",
        "    xlab('Number of Clusters k')+\n",
        "    ylab('Cost')+\n",
        "    theme_minimal()\n",
        ")"
      ],
      "metadata": {
        "colab": {
          "base_uri": "https://localhost:8080/"
        },
        "id": "JqMmw6BIfNIu",
        "outputId": "c7bcb21d-421a-4e37-8ada-fdbbd35ae1f7"
      },
      "execution_count": null,
      "outputs": [
        {
          "output_type": "display_data",
          "data": {
            "text/plain": [
              "<Figure size 800x480 with 1 Axes>"
            ],
            "image/png": "[encoded data removed]"
          },
          "metadata": {
            "needs_background": "light"
          }
        },
        {
          "output_type": "execute_result",
          "data": {
            "text/plain": [
              "<ggplot: (8726432454819)>"
            ]
          },
          "metadata": {},
          "execution_count": 120
        }
      ]
    },
    {
      "cell_type": "markdown",
      "source": [
        "#### Cluster Model Fitting"
      ],
      "metadata": {
        "id": "xZYimKo67eNe"
      }
    },
    {
      "cell_type": "code",
      "source": [
        "# Modeling with Optimal K as above (Takes about 1 hour to run)\n",
        "\n",
        "kproto = KPrototypes(n_jobs = -1, n_clusters = 3, random_state = 0)\n",
        "clusters = kproto.fit_predict(dfMatrix, categorical=catColumnsPos)"
      ],
      "metadata": {
        "id": "vmptqLdN4CDX"
      },
      "execution_count": null,
      "outputs": []
    },
    {
      "cell_type": "code",
      "source": [
        "# Cluster centorid\n",
        "kproto.cluster_centroids_"
      ],
      "metadata": {
        "colab": {
          "base_uri": "https://localhost:8080/"
        },
        "id": "heIsNPmpe4cp",
        "outputId": "4ef86b7b-67d4-410b-f420-752de4beb458"
      },
      "execution_count": null,
      "outputs": [
        {
          "output_type": "execute_result",
          "data": {
            "text/plain": [
              "array([[5.44000438e-02, 5.92063415e-01, 4.87871776e-01, 1.15597477e-01,\n",
              "        2.31337563e-01, 2.91976498e-01, 2.10980817e-02, 4.85644543e-04,\n",
              "        2.60339887e-02, 2.80642097e-02, 1.46260562e-02, 1.22106207e-02,\n",
              "        1.81531731e-02, 2.00000000e+00, 2.00000000e+00, 0.00000000e+00,\n",
              "        1.00000000e+00, 0.00000000e+00, 9.00000000e+00, 1.14000000e+02,\n",
              "        0.00000000e+00, 0.00000000e+00],\n",
              "       [5.50498346e-02, 7.28500678e-01, 4.09439243e-01, 9.82512848e-02,\n",
              "        2.24616968e-01, 2.15706059e-01, 2.20171718e-02, 1.11984890e-03,\n",
              "        2.58434229e-02, 2.85933287e-02, 1.51170779e-02, 1.16862975e-02,\n",
              "        1.81956691e-02, 2.00000000e+00, 1.42108479e+00, 2.00000000e+00,\n",
              "        1.00000000e+00, 1.00000000e+00, 9.00000000e+00, 9.90000000e+01,\n",
              "        0.00000000e+00, 0.00000000e+00],\n",
              "       [5.74242007e-02, 3.02174762e-01, 4.66932291e-01, 1.12538806e-01,\n",
              "        2.32940906e-01, 1.80977112e-01, 2.32249129e-02, 8.07008286e-04,\n",
              "        3.13324792e-02, 3.41470502e-02, 1.50963077e-02, 1.49462133e-02,\n",
              "        1.87353883e-02, 2.00000000e+00, 0.00000000e+00, 0.00000000e+00,\n",
              "        1.00000000e+00, 0.00000000e+00, 9.00000000e+00, 1.50000000e+01,\n",
              "        0.00000000e+00, 0.00000000e+00]])"
            ]
          },
          "metadata": {},
          "execution_count": 15
        }
      ]
    },
    {
      "cell_type": "code",
      "source": [
        "# Cluster Similarity score using calinski_harabasz_score\n",
        "## https://towardsdatascience.com/performance-metrics-in-machine-learning-part-3-clustering-d69550662dc6 \n",
        "import sklearn \n",
        "\n",
        "print(sklearn.metrics.calinski_harabasz_score(norm_df, kproto.labels_))"
      ],
      "metadata": {
        "colab": {
          "base_uri": "https://localhost:8080/"
        },
        "id": "70cMILACS8ia",
        "outputId": "a0aeb894-5fb2-4588-f7cc-5d6e250c0b04"
      },
      "execution_count": null,
      "outputs": [
        {
          "output_type": "stream",
          "name": "stdout",
          "text": [
            "410.9888333332531\n"
          ]
        }
      ]
    },
    {
      "cell_type": "code",
      "source": [
        "print(sklearn.metrics.davies_bouldin_score(norm_df, kproto.labels_))"
      ],
      "metadata": {
        "colab": {
          "base_uri": "https://localhost:8080/"
        },
        "id": "aWKS_kK9rv_J",
        "outputId": "d32319da-a58f-4547-d33d-7e9f63627885"
      },
      "execution_count": null,
      "outputs": [
        {
          "output_type": "stream",
          "name": "stdout",
          "text": [
            "17.285855374756494\n"
          ]
        }
      ]
    },
    {
      "cell_type": "code",
      "source": [
        "# Add the cluster to the dataframe\n",
        "norm_df['Cluster Labels'] = kproto.labels_\n",
        "print(norm_df)"
      ],
      "metadata": {
        "colab": {
          "base_uri": "https://localhost:8080/"
        },
        "id": "HrX10-DRY23u",
        "outputId": "8cfe81f1-ce6d-4422-d512-cc14e2e39201"
      },
      "execution_count": null,
      "outputs": [
        {
          "output_type": "stream",
          "name": "stdout",
          "text": [
            "        los   age  height  weight   bmi  race  marital_status  insurance  \\\n",
            "0     0.032 0.012   0.413   0.090 0.199 0.000           1.422      0.000   \n",
            "4     0.045 0.024   0.587   0.140 0.251 3.000           0.000      0.000   \n",
            "7     0.027 0.037   0.558   0.135 0.249 0.000           1.422      0.000   \n",
            "9     0.015 0.049   0.459   0.170 0.229 0.000           0.000      0.000   \n",
            "10    0.024 0.049   0.459   0.086 0.229 0.000           0.000      0.000   \n",
            "...     ...   ...     ...     ...   ...   ...             ...        ...   \n",
            "78102 0.153 0.598   0.317   0.089 0.224 2.000           2.000      2.000   \n",
            "78106 0.012 0.890   0.459   0.087 0.229 2.000           1.422      2.000   \n",
            "78108 0.010 0.366   0.490   0.118 0.237 0.000           2.000      0.000   \n",
            "78109 0.122 0.390   0.394   0.068 0.155 1.000           0.000      0.000   \n",
            "78111 0.034 0.683   0.394   0.083 0.187 2.000           1.422      2.000   \n",
            "\n",
            "       fluent_english  gender  ...  avg_sofa  hidden_hypoxemia_percentage  \\\n",
            "0               1.000   1.000  ...     0.325                        0.000   \n",
            "4               0.000   0.000  ...     0.179                        0.000   \n",
            "7               1.000   0.000  ...     0.110                        0.022   \n",
            "9               1.000   0.000  ...     0.179                        0.022   \n",
            "10              1.000   1.000  ...     0.094                        0.022   \n",
            "...               ...     ...  ...       ...                          ...   \n",
            "78102           1.000   1.000  ...     0.245                        0.022   \n",
            "78106           1.000   0.000  ...     0.279                        0.022   \n",
            "78108           1.000   0.000  ...     0.000                        0.022   \n",
            "78109           0.000   0.000  ...     0.217                        0.000   \n",
            "78111           1.000   1.000  ...     0.382                        0.000   \n",
            "\n",
            "       max_delta_SaO2SpO2  intubation_duration_hour  number_of_turning  \\\n",
            "0                   0.000                     0.022              0.022   \n",
            "4                   0.000                     0.042              0.048   \n",
            "7                   0.001                     0.008              0.010   \n",
            "9                   0.001                     0.005              0.005   \n",
            "10                  0.001                     0.008              0.010   \n",
            "...                   ...                       ...                ...   \n",
            "78102               0.001                     0.009              0.012   \n",
            "78106               0.001                     0.002              0.004   \n",
            "78108               0.001                     0.003              0.005   \n",
            "78109               0.000                     0.156              0.165   \n",
            "78111               0.000                     0.003              0.001   \n",
            "\n",
            "       frequency_of_turning_hour  number_of_oral_care__condensed  \\\n",
            "0                          0.013                           0.028   \n",
            "4                          0.015                           0.013   \n",
            "7                          0.017                           0.010   \n",
            "9                          0.012                           0.001   \n",
            "10                         0.017                           0.010   \n",
            "...                          ...                             ...   \n",
            "78102                      0.016                           0.005   \n",
            "78106                      0.020                           0.001   \n",
            "78108                      0.020                           0.000   \n",
            "78109                      0.013                           0.133   \n",
            "78111                      0.005                           0.000   \n",
            "\n",
            "       frequency_of_oral_care_hour__condensed  oral_care_type  Cluster Labels  \n",
            "0                                       0.052           0.000               2  \n",
            "4                                       0.012           0.000               2  \n",
            "7                                       0.053           0.000               2  \n",
            "9                                       0.009           0.000               2  \n",
            "10                                      0.052           0.000               2  \n",
            "...                                       ...             ...             ...  \n",
            "78102                                   0.022           0.000               1  \n",
            "78106                                   0.020           0.000               1  \n",
            "78108                                   0.018           1.000               2  \n",
            "78109                                   0.034           0.000               2  \n",
            "78111                                   0.018           1.000               1  \n",
            "\n",
            "[28720 rows x 23 columns]\n"
          ]
        }
      ]
    },
    {
      "cell_type": "code",
      "source": [
        "# EVALUATE CLUSTERS\n",
        "# Compute the silhouette scores \n",
        "from sklearn.metrics import silhouette_score\n",
        "\n",
        "kproto_silhouette = silhouette_score(dfMatrix.tolist(), kproto.labels_).round(2)\n",
        "print(kproto_silhouette)"
      ],
      "metadata": {
        "colab": {
          "base_uri": "https://localhost:8080/"
        },
        "id": "pWBT0QLdTmWr",
        "outputId": "5a1208fd-04c2-4035-a735-b1aa28408d62"
      },
      "execution_count": null,
      "outputs": [
        {
          "output_type": "stream",
          "name": "stdout",
          "text": [
            "-0.05\n"
          ]
        }
      ]
    },
    {
      "cell_type": "markdown",
      "source": [
        "#### Cluster Interpretation"
      ],
      "metadata": {
        "id": "elpXhDb_zoZ3"
      }
    },
    {
      "cell_type": "code",
      "source": [
        "# Cluster interpretation\n",
        "\n",
        "table = norm_df.groupby('Cluster Labels').agg(\n",
        "    {  \n",
        "        'frequency_of_oral_care_hour__condensed': 'mean',\n",
        "        'oral_care_type': lambda x: x.value_counts().index[0],\n",
        "        'los': 'mean',\n",
        "        'age': 'mean',\n",
        "        'height': 'mean',\n",
        "        'weight': 'mean',\n",
        "        'bmi': 'mean',\n",
        "        'race': lambda x: (x.value_counts().index[0]),\n",
        "        'marital_status': lambda x: (x.value_counts().index[0]),\n",
        "        'insurance': lambda x: (x.value_counts().index[0]),\n",
        "\n",
        "        'fluent_english': lambda x: (x.value_counts().index[0]),\n",
        "        'gender': lambda x: (x.value_counts().index[0]),\n",
        "        'hospital_expire_flag': lambda x: (x.value_counts().index[0]),\n",
        "        'primary_diagnosis': lambda x: (x.value_counts().index[0]),\n",
        "        'icd_version': lambda x: (x.value_counts().index[0]),\n",
        "         \n",
        "        'avg_sofa': 'mean',\n",
        "        'hidden_hypoxemia_percentage': 'mean',\n",
        "        'max_delta_SaO2SpO2': 'mean',\n",
        "\n",
        "        'intubation_duration_hour': 'mean',\n",
        "        'number_of_turning': 'mean',\n",
        "        'frequency_of_turning_hour': 'mean',\n",
        "        'number_of_oral_care__condensed': 'mean',\n",
        "        \n",
        "        \n",
        "        \n",
        "    }\n",
        ").reset_index()\n",
        "\n",
        "print(table.to_latex())"
      ],
      "metadata": {
        "id": "0ULK9YMaUjbZ"
      },
      "execution_count": null,
      "outputs": []
    },
    {
      "cell_type": "markdown",
      "source": [
        "#### Look Up ICD Diagnosis Codes\n",
        "Using Map from Leo Team Github"
      ],
      "metadata": {
        "id": "UrSCjjs2dt9L"
      }
    },
    {
      "cell_type": "code",
      "source": [
        "icd_map = {\n",
        "    \"001-139\": \"Certain infectious and parasitic diseases\",\n",
        "    \"140-239\": \"Neoplasms\",\n",
        "    \"240-279\": \"Endocrine, nutritional and metabolic diseases\",\n",
        "    \"280-289\": \"Diseases of the blood and blood-forming organs and certain disorders involving the immune mechanism\",\n",
        "    \"290-319\": \"Mental and behavioural disorders\",\n",
        "    \"320-389\": \"Diseases of the nervous system\",\n",
        "    \"390-459\": \"Diseases of the circulatory system\",\n",
        "    \"460-519\": \"Diseases of the respiratory system\",\n",
        "    \"520-579\": \"Diseases of the digestive system\",\n",
        "    \"580-629\": \"Diseases of the genitourinary system\",\n",
        "    \"630-679\": \"Pregnancy, childbirth and the puerperium\",\n",
        "    \"680-709\": \"Diseases of the skin and subcutaneous tissue\",\n",
        "    \"710-739\": \"Diseases of the musculoskeletal system and connective tissue\",\n",
        "    \"740-759\": \"Congenital malformations, deformations and chromosomal abnormalities\",\n",
        "    \"760-779\": \"Certain conditions originating in the perinatal period\",\n",
        "    \"780-799\": \"Symptoms, signs and abnormal clinical and laboratory findings, not elsewhere classified\",\n",
        "    \"800-999\": \"Injury, poisoning and certain other consequences of external causes\",\n",
        "    \"E80-E99\": \"Supplementary Classification of External Causes of Injury and Poisoning\",\n",
        "    \"V01-V82\": \"Supplementary Classification of Factors influencing Health Status and Contact with Health Services\",\n",
        "    \"M80-M99\": \"Morphology of Neoplasms\"\n",
        "}"
      ],
      "metadata": {
        "id": "V3zUfSGX_fP8"
      },
      "execution_count": null,
      "outputs": []
    },
    {
      "cell_type": "markdown",
      "source": [
        "Mapping ICD codes \n",
        "\n",
        "\n",
        "*   Cluster primary Diagnosis(114, 99, 15): all within the ICD code group of \"Certain infectious and parasitic diseases\"\n",
        "*   Overall Data primary diagnosis = same as above group but outlier group is \"Neoplasms\"\n",
        "\n"
      ],
      "metadata": {
        "id": "2Aq84j_N_5D0"
      }
    },
    {
      "cell_type": "markdown",
      "source": [
        "#### Cluster Visualization "
      ],
      "metadata": {
        "id": "wCnYRpaoztY_"
      }
    },
    {
      "cell_type": "code",
      "source": [
        "# Visualize features\n",
        "import plotly.express as px\n",
        "fig = px.scatter_matrix(norm_df, width=1200, height=1600)\n",
        "fig.show()"
      ],
      "metadata": {
        "id": "3Zwgr0UiW6SQ"
      },
      "execution_count": null,
      "outputs": []
    },
    {
      "cell_type": "code",
      "source": [
        "fig2 = px.scatter_3d(norm_df, x=\"age\", y=\"insurance\",z=\"los\",\n",
        "                     color=\"Cluster Labels\")\n",
        "fig2.update_layout(title=\"3 Features Representation\")\n",
        "fig2.show()"
      ],
      "metadata": {
        "id": "_604O2YbXTBk"
      },
      "execution_count": null,
      "outputs": []
    },
    {
      "cell_type": "code",
      "source": [
        "fig3 = px.scatter_3d(norm_df, x=\"age\", y=\"avg_sofa\",z=\"number_of_turning\",\n",
        "                     color=\"Cluster Labels\")\n",
        "fig3.update_layout(title=\"3 Features Representation\")\n",
        "fig3.show()"
      ],
      "metadata": {
        "id": "czuYVGs8DAgF"
      },
      "execution_count": null,
      "outputs": []
    },
    {
      "cell_type": "code",
      "source": [
        "print(scat.legend_elements(num=3)[0])"
      ],
      "metadata": {
        "id": "7VDYzxNKUZE0"
      },
      "execution_count": null,
      "outputs": []
    },
    {
      "cell_type": "code",
      "source": [
        "fig, ax = plt.subplots()\n",
        "fig.set_size_inches((20, 10))\n",
        "scat = ax.scatter(embedding[0][:, 0], embedding[0][:, 1], s=2, c=clusters, cmap='tab20b', alpha=1.0)\n",
        "\n",
        "# produce a legend with the unique colors from the scatter\n",
        "ax.legend(scat.legend_elements(num=3)[0], ['0', '1', '2'],\n",
        "                    loc=\"lower left\", title=\"Clusters\")\n",
        "#ax.add_artist(legend1)"
      ],
      "metadata": {
        "id": "pbg2COR8jACz"
      },
      "execution_count": null,
      "outputs": []
    },
    {
      "cell_type": "markdown",
      "source": [
        "#### Cluster Analysis for 3 Clusters"
      ],
      "metadata": {
        "id": "_lUcUNvmujvK"
      }
    },
    {
      "cell_type": "code",
      "source": [
        "from collections import Counter\n",
        "\n",
        "turning_means = {}\n",
        "ocare_means = {}\n",
        "clusters = cluster_df.groupby('Cluster Labels')\n",
        "counter = -1\n",
        "for key, item in clusters:\n",
        "  counter += 1\n",
        "  plt.figure()\n",
        "  c = clusters.get_group(key)\n",
        "  plt.bar(Counter(c['race'].tolist()).keys(), Counter(c['race'].tolist()).values())\n",
        "  plt.title('Cluster Number: '+ str(counter+1) + ' of 3 Race Counts')\n",
        "  plt.show()\n",
        "\n",
        "  turning_means[counter] = np.mean(c['frequency_of_turning_hour'])\n",
        "  ocare_means[counter] = np.mean(c['frequency_of_oral_care_hour__condensed'])"
      ],
      "metadata": {
        "id": "1iuDTfvPulrQ"
      },
      "execution_count": null,
      "outputs": []
    },
    {
      "cell_type": "code",
      "source": [
        "plt.figure()\n",
        "plt.scatter(turning_means.keys(), turning_means.values())\n",
        "plt.title('Cluster turning means')\n",
        "plt.show()"
      ],
      "metadata": {
        "id": "zSRnt5__1XHh"
      },
      "execution_count": null,
      "outputs": []
    },
    {
      "cell_type": "code",
      "source": [
        "plt.figure()\n",
        "plt.scatter(ocare_means.keys(), ocare_means.values())\n",
        "plt.title('Cluster oral care means')\n",
        "plt.show()"
      ],
      "metadata": {
        "id": "1zyi5mm71xir"
      },
      "execution_count": null,
      "outputs": []
    },
    {
      "cell_type": "code",
      "source": [
        "\n",
        "counter = -1\n",
        "for key, item in clusters:\n",
        "  counter += 1\n",
        "  plt.figure()\n",
        "  c = clusters.get_group(key)\n",
        "  plt.bar(Counter(c['insurance'].tolist()).keys(), Counter(c['insurance'].tolist()).values())\n",
        "  plt.title('Cluster Number: '+ str(counter) + ' Insurance Counts')\n",
        "  plt.show()\n"
      ],
      "metadata": {
        "id": "x9BShniH2ZMs"
      },
      "execution_count": null,
      "outputs": []
    },
    {
      "cell_type": "code",
      "source": [
        "counter = -1\n",
        "for key, item in clusters:\n",
        "  counter += 1\n",
        "  plt.figure()\n",
        "  c = clusters.get_group(key)\n",
        "  plt.bar(Counter(c['marital_status'].tolist()).keys(), Counter(c['marital_status'].tolist()).values())\n",
        "  plt.title('Cluster Number: '+ str(counter) + ' of 3 Marital Status Counts')\n",
        "  plt.show()"
      ],
      "metadata": {
        "id": "0wM2TZzX2pe_"
      },
      "execution_count": null,
      "outputs": []
    },
    {
      "cell_type": "code",
      "source": [
        "counter = -1\n",
        "for key, item in clusters:\n",
        "  counter += 1\n",
        "  plt.figure()\n",
        "  c = clusters.get_group(key)\n",
        "  plt.bar(Counter(c['fluent_english'].tolist()).keys(), Counter(c['fluent_english'].tolist()).values())\n",
        "  plt.title('Cluster Number: '+ str(counter) + ' of 3 English Fluency Counts')\n",
        "  plt.show()"
      ],
      "metadata": {
        "id": "aY8RP3sl21Gb"
      },
      "execution_count": null,
      "outputs": []
    },
    {
      "cell_type": "code",
      "source": [
        "\n",
        "counter = -1\n",
        "for key, item in clusters:\n",
        "  counter += 1\n",
        "  plt.figure()\n",
        "  c = clusters.get_group(key)\n",
        "  plt.bar(Counter(c['gender'].tolist()).keys(), Counter(c['gender'].tolist()).values())\n",
        "  plt.title('Cluster Number: '+ str(counter) + ' of 3 Gender Counts')\n",
        "  plt.show()"
      ],
      "metadata": {
        "id": "YUa3PMbz3Q82"
      },
      "execution_count": null,
      "outputs": []
    },
    {
      "cell_type": "markdown",
      "source": [
        "#### Attempting PCA on Clusters\n"
      ],
      "metadata": {
        "id": "bWQSOVglVLQU"
      }
    },
    {
      "cell_type": "code",
      "source": [
        "## Run PCA on clusters to find significance \n",
        "\n",
        "# 1. Data PCA\n",
        "from sklearn.decomposition import PCA\n",
        "\n",
        "pca = PCA(n_components=2)\n",
        "\n",
        "principalComponents = pca.fit_transform(cluster_df)\n",
        "\n",
        "principalDf = pd.DataFrame(data = principalComponents\n",
        "             , columns = ['1', '2'])"
      ],
      "metadata": {
        "id": "njabO98OGBEH"
      },
      "execution_count": null,
      "outputs": []
    },
    {
      "cell_type": "code",
      "source": [
        "# 2. \n",
        "finalDf = pd.concat([principalDf, cluster_df[['Cluster Labels']]], axis = 1)"
      ],
      "metadata": {
        "id": "68-TYC63O1ZU"
      },
      "execution_count": null,
      "outputs": []
    },
    {
      "cell_type": "code",
      "source": [
        "# VISUALIZE PCA *** 3D space??? ***\n",
        "fig = plt.figure(figsize = (8,8))\n",
        "ax = fig.add_subplot(1,1,1) \n",
        "ax.set_xlabel('Principal Component 1', fontsize = 15)\n",
        "ax.set_ylabel('Principal Component 2', fontsize = 15)\n",
        "ax.set_title('2 component PCA', fontsize = 20)\n",
        "\n",
        "targets = [0, 1, 2]\n",
        "colors = ['r', 'g', 'b']\n",
        "for target, color in zip(targets,colors):\n",
        "    indicesToKeep = finalDf['Cluster Labels'] == target\n",
        "    ax.scatter(finalDf.loc[indicesToKeep, '1']\n",
        "               , finalDf.loc[indicesToKeep, '2']\n",
        "               , c = color\n",
        "               , s = 50)\n",
        "ax.legend(targets)\n",
        "ax.grid()"
      ],
      "metadata": {
        "id": "z1IHWjPVPJBI"
      },
      "execution_count": null,
      "outputs": []
    },
    {
      "cell_type": "markdown",
      "source": [
        "## Linear Regression \n",
        "We train two different models one on white patients and the other on nonwhite patient data. Then we compared their performance on predicitng turning frequency. "
      ],
      "metadata": {
        "id": "1XQpv1HO8lTz"
      }
    },
    {
      "cell_type": "code",
      "source": [
        "#Imports\n",
        "import pandas as pd\n",
        "import numpy as np\n",
        "from sklearn.linear_model import LinearRegression\n",
        "from sklearn.metrics import accuracy_score, roc_auc_score, roc_curve, confusion_matrix, f1_score\n",
        "from sklearn.preprocessing import StandardScaler\n",
        "import matplotlib.pyplot as plt\n",
        "from sklearn.feature_extraction.text import CountVectorizer\n",
        "from sklearn.utils import shuffle"
      ],
      "metadata": {
        "id": "PnPelSiv8o7m"
      },
      "execution_count": null,
      "outputs": []
    },
    {
      "cell_type": "code",
      "source": [
        "# Replace all NaN Values with Mean\n",
        "stats = df.describe()\n",
        "new_df = df.copy()\n",
        "\n",
        "for col in df.columns:\n",
        "  for i in df[col].isnull().to_numpy().nonzero():\n",
        "    \n",
        "    new_df[col].iloc[i] = stats[col]['mean']\n",
        "\n",
        "print(np.argwhere(np.isnan(new_df.to_numpy())))"
      ],
      "metadata": {
        "id": "f_99qQctOeea"
      },
      "execution_count": null,
      "outputs": []
    },
    {
      "cell_type": "code",
      "source": [
        "# Split the Data into White or Non-White\n",
        "\n",
        "race_map = {} \n",
        "for i, race in enumerate(new_df.race.unique()):\n",
        "  if 2 == race:\n",
        "    race_map[race] = 0\n",
        "  else:\n",
        "    race_map[race] = 1\n",
        "\n",
        "groups = new_df.groupby('race')\n",
        "\n",
        "white_df = groups.get_group(0)\n",
        "nonwhite_df = groups.get_group(1)"
      ],
      "metadata": {
        "id": "DK3hvC8HLzZN"
      },
      "execution_count": null,
      "outputs": []
    },
    {
      "cell_type": "code",
      "source": [
        "print(np.shape(white_df))\n",
        "print(np.shape(nonwhite_df))"
      ],
      "metadata": {
        "id": "LA-cg3IofuIJ"
      },
      "execution_count": null,
      "outputs": []
    },
    {
      "cell_type": "code",
      "source": [
        "#  Split into Train + Validation + Test\n",
        "\n",
        "# WHITE\n",
        "subject_id = list(set(white_df.subject_id))\n",
        "subject_id_train = subject_id[:int(len(subject_id) * 0.7)]\n",
        "subject_id_val = subject_id[int(len(subject_id) * 0.7): int(len(subject_id) * 0.8)]\n",
        "subject_id_test = subject_id[int(len(subject_id) * 0.8):]\n",
        "\n",
        "white_train_df = white_df[white_df.subject_id.isin(subject_id_train)]\n",
        "white_val_df = white_df[white_df.subject_id.isin(subject_id_val)]\n",
        "white_test_df = white_df[white_df.subject_id.isin(subject_id_test)]\n",
        "\n",
        "# NON-WHITE\n",
        "subject_id = list(set(nonwhite_df.subject_id))\n",
        "subject_id_train = subject_id[:int(len(subject_id) * 0.7)]\n",
        "subject_id_val = subject_id[int(len(subject_id) * 0.7): int(len(subject_id) * 0.8)]\n",
        "subject_id_test = subject_id[int(len(subject_id) * 0.8):]\n",
        "\n",
        "nonwhite_train_df = nonwhite_df[nonwhite_df.subject_id.isin(subject_id_train)]\n",
        "nonwhite_val_df = nonwhite_df[nonwhite_df.subject_id.isin(subject_id_val)]\n",
        "nonwhite_test_df = nonwhite_df[nonwhite_df.subject_id.isin(subject_id_test)]"
      ],
      "metadata": {
        "id": "u60Nw6MKZmmC"
      },
      "execution_count": null,
      "outputs": []
    },
    {
      "cell_type": "code",
      "source": [
        "# Prep Data Sets for each linear regression\n",
        "\n",
        "# 1. Predict Turning Frequency \n",
        "white_turn_train = white_train_df['frequency_of_turning_hour'].values\n",
        "white_train_turn_df = white_train_df.drop(columns=['frequency_of_turning_hour', 'number_of_turning'])\n",
        "\n",
        "nonwhite_turn_train = nonwhite_train_df['frequency_of_turning_hour'].values\n",
        "nonwhite_train_turn_df = nonwhite_train_df.drop(columns=['frequency_of_turning_hour', 'number_of_turning'])\n"
      ],
      "metadata": {
        "id": "V49Myh0aM3Wz"
      },
      "execution_count": null,
      "outputs": []
    },
    {
      "cell_type": "code",
      "source": [
        "# Perform the Linear Regression\n",
        "\n",
        "# White Model \n",
        "clf = LinearRegression()\n",
        "clf.fit(white_train_turn_df, white_turn_train)\n",
        "\n",
        "white_turn_val = white_val_df['frequency_of_turning_hour'].values\n",
        "white_val_turn_df = white_val_df.drop(columns=['frequency_of_turning_hour','number_of_turning'])\n",
        "white_pred_val = clf.predict(white_val_turn_df.to_numpy())\n",
        "\n",
        "# NonWhite Model \n",
        "clf2 = LinearRegression()\n",
        "clf2.fit(nonwhite_train_turn_df, nonwhite_turn_train)\n",
        "\n",
        "nonwhite_turn_val = nonwhite_val_df['frequency_of_turning_hour'].values\n",
        "nonwhite_val_turn_df = nonwhite_val_df.drop(columns=['frequency_of_turning_hour','number_of_turning'])\n",
        "nonwhite_pred_val = clf2.predict(nonwhite_val_turn_df.to_numpy())"
      ],
      "metadata": {
        "id": "mU-psvcQNh4j"
      },
      "execution_count": null,
      "outputs": []
    },
    {
      "cell_type": "code",
      "source": [
        "# Rounded Accuracy \n",
        "# https://realpython.com/python-rounding/#rounding-up \n",
        "import math\n",
        "\n",
        "def round_half_up(n, decimals=0):\n",
        "    multiplier = 10 ** decimals\n",
        "    return math.floor(n*multiplier + 0.5) / multiplier\n",
        "\n",
        "def rounded_reg_accuracy(true, pred):\n",
        "  total = len(true)\n",
        "  correct = 0\n",
        "  for t in range(len(true)):\n",
        "    if round_half_up(true[t], 1) == round_half_up(pred[t], 1):\n",
        "      correct += 1\n",
        "  return correct / total \n",
        "\n",
        "def forgiving_reg_accuracy(true, pred):\n",
        "  total = len(true)\n",
        "  correct = 0\n",
        "  for t in range(len(true)):\n",
        "    if pred[t] - 0.1 < true[t] < pred[t] + 0.1:\n",
        "      correct += 1\n",
        "  return correct / total "
      ],
      "metadata": {
        "id": "DqzOai8rRIkD"
      },
      "execution_count": null,
      "outputs": []
    },
    {
      "cell_type": "code",
      "source": [
        "print('White Model Accuracy ' + str(rounded_reg_accuracy(white_turn_val, white_pred_val)))\n",
        "print('NonWhite Model Accuracy ' + str(rounded_reg_accuracy(nonwhite_turn_val, nonwhite_pred_val)))\n",
        "\n",
        "print('White Model Forgiving Accuracy ' + str(forgiving_reg_accuracy(white_turn_val, white_pred_val)))\n",
        "print('NonWhite Model Forgiving Accuracy ' + str(forgiving_reg_accuracy(nonwhite_turn_val, nonwhite_pred_val)))"
      ],
      "metadata": {
        "colab": {
          "base_uri": "https://localhost:8080/"
        },
        "id": "z-Fuba5fccv3",
        "outputId": "4281e7c6-5ee4-440d-8045-916ace5e52e0"
      },
      "execution_count": null,
      "outputs": [
        {
          "output_type": "stream",
          "name": "stdout",
          "text": [
            "White Model Accuracy 0.3681506849315068\n",
            "NonWhite Model Accuracy 0.3951271186440678\n",
            "White Model Forgiving Accuracy 0.6643835616438356\n",
            "NonWhite Model Forgiving Accuracy 0.6927966101694916\n"
          ]
        }
      ]
    },
    {
      "cell_type": "markdown",
      "source": [
        "## Logistic Regression\n",
        "\n",
        "We trained two different models one on white the other on nonwhite patient data to predict if a patient will die in the ICU. Then we compared the performance of these two models. We found that the model trained on the nonwhite patients attained an accuracy that was 6% higher then the white model. "
      ],
      "metadata": {
        "id": "KTMullqF_QYB"
      }
    },
    {
      "cell_type": "code",
      "source": [
        "# Imports\n",
        "import pandas as pd\n",
        "import numpy as np\n",
        "from sklearn.linear_model import LogisticRegression\n",
        "from sklearn.metrics import accuracy_score, roc_auc_score, roc_curve, confusion_matrix, f1_score\n",
        "from sklearn.preprocessing import StandardScaler\n",
        "import matplotlib.pyplot as plt\n",
        "from sklearn.feature_extraction.text import CountVectorizer\n",
        "from sklearn.utils import shuffle"
      ],
      "metadata": {
        "id": "X_L7Hiti_hbb"
      },
      "execution_count": null,
      "outputs": []
    },
    {
      "cell_type": "code",
      "source": [
        "# Data Preprocessing\n",
        "\n",
        "# Replace all NaN Values with Mean\n",
        "stats = df.describe()\n",
        "new_df = df.copy()\n",
        "\n",
        "for col in df.columns:\n",
        "  for i in df[col].isnull().to_numpy().nonzero():\n",
        "    new_df[col].iloc[i] = stats[col]['mean']\n",
        "\n",
        "print(np.argwhere(np.isnan(new_df.to_numpy())))\n"
      ],
      "metadata": {
        "id": "8zfi0t-lABhN"
      },
      "execution_count": null,
      "outputs": []
    },
    {
      "cell_type": "code",
      "source": [
        "# Data Splits\n",
        "\n",
        "# Train, Val, Test Data\n",
        "subject_id = list(set(new_df.subject_id))\n",
        "subject_id_train = subject_id[:int(len(subject_id) * 0.7)]\n",
        "subject_id_val = subject_id[int(len(subject_id) * 0.7): int(len(subject_id) * 0.8)]\n",
        "subject_id_test = subject_id[int(len(subject_id) * 0.8):]\n",
        "\n",
        "train_df = new_df[new_df.subject_id.isin(subject_id_train)]\n",
        "val_df = new_df[new_df.subject_id.isin(subject_id_val)]\n",
        "test_df = new_df[new_df.subject_id.isin(subject_id_test)]\n",
        "\n",
        "# Remove IDs\n",
        "train_df = train_df.drop(['subject_id', 'hadm_id',  'stay_id'], axis=1) \n",
        "test_df = test_df.drop(['subject_id', 'hadm_id',  'stay_id'], axis=1)\n",
        "\n",
        "# Split the Data into White or Non-White for the test set \n",
        "race_map = {} \n",
        "for i, race in enumerate(new_df.race.unique()):\n",
        "  if 2 == race:\n",
        "    race_map[race] = 0\n",
        "  else:\n",
        "    race_map[race] = 1\n",
        "\n",
        "train_groups = train_df.groupby('race')\n",
        "white_train_df = train_groups.get_group(0)\n",
        "nonwhite_train_df = train_groups.get_group(1)\n",
        "\n",
        "groups = test_df.groupby('race')\n",
        "white_test_df = groups.get_group(0)\n",
        "nonwhite_test_df = groups.get_group(1)\n",
        "\n",
        "# Set Predicition task \n",
        "white_mort_train = white_train_df['hospital_expire_flag'].values\n",
        "white_train_mort_df = white_train_df.drop(columns=['hospital_expire_flag'])\n",
        "nonwhite_mort_train = nonwhite_train_df['hospital_expire_flag'].values\n",
        "nonwhite_train_mort_df = nonwhite_train_df.drop(columns=['hospital_expire_flag'])\n",
        "\n",
        "nonwhite_test = nonwhite_test_df['hospital_expire_flag'].values\n",
        "nonwhite_test_df = nonwhite_test_df.drop(columns=['hospital_expire_flag'])\n",
        "white_test = white_test_df['hospital_expire_flag'].values\n",
        "white_test_df = white_test_df.drop(columns=['hospital_expire_flag'])\n"
      ],
      "metadata": {
        "id": "Fk5GDFUbAD0t"
      },
      "execution_count": null,
      "outputs": []
    },
    {
      "cell_type": "code",
      "source": [
        "# Logistic Regression \n",
        "clf = LogisticRegression()\n",
        "clf.fit(white_train_mort_df, white_mort_train)\n",
        "\n",
        "clf2 = LogisticRegression()\n",
        "clf2.fit(nonwhite_train_mort_df, nonwhite_mort_train)"
      ],
      "metadata": {
        "id": "CvcZBJB2AFYn"
      },
      "execution_count": null,
      "outputs": []
    },
    {
      "cell_type": "code",
      "source": [
        "# Testing \n",
        "nonwhite_pred_val = clf2.predict(nonwhite_test_df)\n",
        "print('AUC: ' + str(roc_auc_score(nonwhite_test, nonwhite_pred_val)))\n",
        "print('Accuracy: ' + str(accuracy_score(nonwhite_test, [x >= 0.5 for x in nonwhite_pred_val])))\n",
        "\n",
        "white_pred_val = clf.predict(white_test_df)\n",
        "print('AUC: ' + str(roc_auc_score(white_test, white_pred_val)))\n",
        "print('Accuracy: ' + str(accuracy_score(white_test, [x >= 0.5 for x in white_pred_val])))"
      ],
      "metadata": {
        "colab": {
          "base_uri": "https://localhost:8080/"
        },
        "id": "fglqoFyPAHey",
        "outputId": "1d67bd0a-a106-42cd-9cd0-634402800b4a"
      },
      "execution_count": null,
      "outputs": [
        {
          "output_type": "stream",
          "name": "stdout",
          "text": [
            "AUC: 0.5283230001512172\n",
            "Accuracy: 0.8143459915611815\n",
            "AUC: 0.5673764541647278\n",
            "Accuracy: 0.7554991539763113\n"
          ]
        }
      ]
    },
    {
      "cell_type": "code",
      "source": [
        "# What do we expect to be the biggest factors/weights?\n",
        "print(np.argmax([abs(x) for x in clf.coef_[0]]))\n",
        "print(np.argmax([abs(x) for x in clf2.coef_[0]]))"
      ],
      "metadata": {
        "colab": {
          "base_uri": "https://localhost:8080/"
        },
        "id": "m4hIKVbwIQua",
        "outputId": "90d9a080-84d0-47e5-e75a-86119928b9d6"
      },
      "execution_count": null,
      "outputs": [
        {
          "output_type": "stream",
          "name": "stdout",
          "text": [
            "12\n",
            "12\n"
          ]
        }
      ]
    },
    {
      "cell_type": "code",
      "source": [
        "print(white_test_df.columns[12])\n",
        "print(white_test_df.columns[12])"
      ],
      "metadata": {
        "colab": {
          "base_uri": "https://localhost:8080/"
        },
        "id": "tOtJno6iTjQp",
        "outputId": "ff304e89-0d5e-4092-8da9-d67a22874c02"
      },
      "execution_count": null,
      "outputs": [
        {
          "output_type": "stream",
          "name": "stdout",
          "text": [
            "avg_sofa\n",
            "avg_sofa\n"
          ]
        }
      ]
    }
  ],
  "metadata": {
    "colab": {
      "collapsed_sections": [
        "NTd248pLgvu-",
        "ZFrMp1uTh_ZM",
        "x7rMyP5umFwL",
        "x_AKfo1SJ-43",
        "mYmk6RSQwLZK",
        "V-q8vBVbyNSq",
        "YeQUqiFZQfqB",
        "HFsE5bJ9YMq4",
        "gn-BzbsCDQd7",
        "6dMTJMg2_51n",
        "FPxMy8VB7XGZ",
        "xZYimKo67eNe",
        "_lUcUNvmujvK",
        "bWQSOVglVLQU",
        "_tJxPOB7h9XA"
      ],
      "provenance": [],
      "include_colab_link": true
    },
    "kernelspec": {
      "display_name": "Python 3",
      "name": "python3"
    },
    "language_info": {
      "name": "python"
    }
  },
  "nbformat": 4,
  "nbformat_minor": 0
}